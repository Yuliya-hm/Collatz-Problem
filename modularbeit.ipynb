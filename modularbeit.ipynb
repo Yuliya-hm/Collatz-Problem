{
 "cells": [
  {
   "cell_type": "markdown",
   "metadata": {},
   "source": [
    "Python Funktion zur Ermittlung des Collatz-Tupels:"
   ]
  },
  {
   "cell_type": "code",
   "execution_count": 27,
   "metadata": {
    "tags": []
   },
   "outputs": [],
   "source": [
    "def collatz(a):\n",
    "    numbers_sequence = [a]\n",
    "    while (a != 1):\n",
    "        a = a / 2 if a % 2 == 0 else a * 3 + 1\n",
    "        numbers_sequence.append(int(a))\n",
    "    return(tuple(numbers_sequence))\n",
    "\n",
    "\n"
   ]
  },
  {
   "cell_type": "markdown",
   "metadata": {},
   "source": [
    "Ausgabefunktion:"
   ]
  },
  {
   "cell_type": "code",
   "execution_count": 28,
   "metadata": {},
   "outputs": [],
   "source": [
    "def print_collatz_info(a):\n",
    "    t = collatz(a)\n",
    "    print(\"Collatz-Tupel: \", t)\n",
    "    print(\"Länge des Tupels: \", len(t) - 1)\n",
    "    print(\"Maximun des Tupels: \", max(t))\n",
    "    print(\"Besteht die Ungleichung M(a1) > a1?\", max(t) > a)"
   ]
  },
  {
   "cell_type": "markdown",
   "metadata": {},
   "source": [
    "Erstelle `ipywidget` für die Generierung der Collatz-Tupeln:"
   ]
  },
  {
   "cell_type": "code",
   "execution_count": 29,
   "metadata": {
    "tags": []
   },
   "outputs": [
    {
     "output_type": "display_data",
     "data": {
      "text/plain": "interactive(children=(IntSlider(value=50, description='a', min=1), Output()), _dom_classes=('widget-interact',…",
      "application/vnd.jupyter.widget-view+json": {
       "version_major": 2,
       "version_minor": 0,
       "model_id": "928e28a560244cb9b030d4fb73c0be41"
      }
     },
     "metadata": {}
    }
   ],
   "source": [
    "from ipywidgets import interactive\n",
    "\n",
    "widget = interactive(print_collatz_info, a=(1, 100))\n",
    "widget"
   ]
  },
  {
   "cell_type": "markdown",
   "metadata": {},
   "source": [
    "Funktion zur Ermittlung von allen Collatz-Champions:"
   ]
  },
  {
   "cell_type": "code",
   "execution_count": 30,
   "metadata": {
    "tags": []
   },
   "outputs": [],
   "source": [
    "import pandas\n",
    "\n",
    "def take_collatz_champions_till(a):\n",
    "    champions = [1]\n",
    "    champions_length = [0]\n",
    "    for i in range(1, a + 1):\n",
    "        t = collatz(i)\n",
    "        if (len(t) - 1 > champions_length[-1]):\n",
    "            champions.append(i)\n",
    "            champions_length.append(len(t) - 1)\n",
    "    df = pandas.DataFrame({\"N\": champions,\n",
    "                           \"L(N)\": champions_length})\n",
    "    return df"
   ]
  },
  {
   "cell_type": "markdown",
   "metadata": {},
   "source": [
    "Zeige alle Collatz-Champions bis zu einem Wert 1 000 000"
   ]
  },
  {
   "cell_type": "code",
   "execution_count": 31,
   "metadata": {
    "tags": []
   },
   "outputs": [
    {
     "output_type": "stream",
     "name": "stdout",
     "text": "0  1  2  3   4   5   6   7    8    9   10   11   12   13   14   15   16  \\\nN     1  2  3  6   7   9  18  25   27   54   73   97  129  171  231  313  327   \nL(N)  0  1  7  8  16  19  20  23  111  112  115  118  121  124  127  130  143   \n\n       17   18   19    20    21    22    23    24    25     26     27     28  \\\nN     649  703  871  1161  2223  2463  2919  3711  6171  10971  13255  17647   \nL(N)  144  170  178   181   182   208   216   237   261    267    275    278   \n\n         29     30     31     32     33     34      35      36      37  \\\nN     23529  26623  34239  35655  52527  77031  106239  142587  156159   \nL(N)    281    307    310    323    339    350     353     374     382   \n\n          38      39      40      41      42      43  \nN     216367  230631  410011  511935  626331  837799  \nL(N)     385     442     448     469     508     524  \n"
    }
   ],
   "source": [
    "pandas.options.display.max_columns = 10000\n",
    "champions_df = take_collatz_champions_till(1000000)\n",
    "print(champions_df.transpose())"
   ]
  },
  {
   "cell_type": "markdown",
   "metadata": {},
   "source": [
    "Funktion für Verwandtschaftsverhältnisse:"
   ]
  },
  {
   "cell_type": "code",
   "execution_count": 32,
   "metadata": {},
   "outputs": [],
   "source": [
    "def collatz_relationships(n1, n2=1000):\n",
    "    t_n1 = collatz(n1)\n",
    "    print(f\"Collatz-Tupel von a: {t_n1}\")\n",
    "    print(f\"\\nVerwandshaftsverhältnisse von {n1}:\")\n",
    "    for i in range(n1 + 1, n2 + 1):\n",
    "        if i == n1:\n",
    "            continue\n",
    "        t_i = collatz(i)\n",
    "        try:\n",
    "            if t_i.index(t_n1[0]) >= 0:\n",
    "                print(f\"\\tmit {i} vom Grad {t_i.index(t_n1[0])}\") #: {t_i}\")\n",
    "        except ValueError:\n",
    "            pass"
   ]
  },
  {
   "cell_type": "markdown",
   "metadata": {},
   "source": [
    "Erstelle ipywidget für die Generierung der Collatz-Tupeln, ihrer Verwandtschaften und deren Graden:"
   ]
  },
  {
   "cell_type": "code",
   "execution_count": 33,
   "metadata": {},
   "outputs": [
    {
     "output_type": "display_data",
     "data": {
      "text/plain": "interactive(children=(IntSlider(value=50, description='n1', min=1), IntSlider(value=1000, description='n2', ma…",
      "application/vnd.jupyter.widget-view+json": {
       "version_major": 2,
       "version_minor": 0,
       "model_id": "1f305bde5f4b405d97b1fdea37e94211"
      }
     },
     "metadata": {}
    }
   ],
   "source": [
    "widget = interactive(collatz_relationships, n1=(1, 100), n2=(1000,10000,100))\n",
    "widget"
   ]
  },
  {
   "cell_type": "markdown",
   "metadata": {},
   "source": [
    "Alle Collatz-tupels sind verbunden\n",
    "\n"
   ]
  },
  {
   "cell_type": "markdown",
   "metadata": {},
   "source": [
    "![Verbindlichkeit](P1.png)"
   ]
  }
 ],
 "metadata": {
  "kernelspec": {
   "display_name": "Python 3",
   "language": "python",
   "name": "python3"
  },
  "language_info": {
   "codemirror_mode": {
    "name": "ipython",
    "version": 3
   },
   "file_extension": ".py",
   "mimetype": "text/x-python",
   "name": "python",
   "nbconvert_exporter": "python",
   "pygments_lexer": "ipython3",
   "version": "3.7.8-final"
  }
 },
 "nbformat": 4,
 "nbformat_minor": 4
}